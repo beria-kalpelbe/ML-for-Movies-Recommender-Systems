{
 "cells": [
  {
   "cell_type": "code",
   "execution_count": 2,
   "metadata": {},
   "outputs": [
    {
     "name": "stderr",
     "output_type": "stream",
     "text": [
      "Fitting model...:   0%|          | 0/30 [00:02<?, ?it/s]\n"
     ]
    },
    {
     "ename": "KeyError",
     "evalue": "'3035'",
     "output_type": "error",
     "traceback": [
      "\u001b[0;31m---------------------------------------------------------------------------\u001b[0m",
      "\u001b[0;31mKeyError\u001b[0m                                  Traceback (most recent call last)",
      "\u001b[1;32m/home/beria/Documents/FINAL PROJECT/modelWithFeatures.ipynb Cell 1\u001b[0m line \u001b[0;36m2\n\u001b[1;32m     <a href='vscode-notebook-cell:/home/beria/Documents/FINAL%20PROJECT/modelWithFeatures.ipynb#W0sZmlsZQ%3D%3D?line=17'>18</a>\u001b[0m \u001b[39m# Movie_model = Model.Model(tau=0.5, Lambda=0.05, train=data_train, test=data_test, K=5, data_movies=data_movie)\u001b[39;00m\n\u001b[1;32m     <a href='vscode-notebook-cell:/home/beria/Documents/FINAL%20PROJECT/modelWithFeatures.ipynb#W0sZmlsZQ%3D%3D?line=18'>19</a>\u001b[0m Movie_model \u001b[39m=\u001b[39m ModelFeatures\u001b[39m.\u001b[39mModelFeatures(tau\u001b[39m=\u001b[39m\u001b[39m0.5\u001b[39m, Lambda\u001b[39m=\u001b[39m\u001b[39m0.05\u001b[39m, train\u001b[39m=\u001b[39mdata_train, test\u001b[39m=\u001b[39mdata_test, K\u001b[39m=\u001b[39m\u001b[39m2\u001b[39m, data_movies\u001b[39m=\u001b[39mdata_movie)\n\u001b[0;32m---> <a href='vscode-notebook-cell:/home/beria/Documents/FINAL%20PROJECT/modelWithFeatures.ipynb#W0sZmlsZQ%3D%3D?line=20'>21</a>\u001b[0m Movie_model\u001b[39m.\u001b[39;49mfit(\u001b[39m30\u001b[39;49m)\n",
      "File \u001b[0;32m/var/autofs/misc/home/beria/Documents/FINAL PROJECT/Model/ModelFeatures.py:174\u001b[0m, in \u001b[0;36mModelFeatures.fit\u001b[0;34m(self, epochs)\u001b[0m\n\u001b[1;32m    171\u001b[0m \u001b[39mfor\u001b[39;00m _ \u001b[39min\u001b[39;00m tqdm(\u001b[39mrange\u001b[39m(epochs), desc\u001b[39m=\u001b[39m\u001b[39m\"\u001b[39m\u001b[39mFitting model...\u001b[39m\u001b[39m\"\u001b[39m):\n\u001b[1;32m    172\u001b[0m     \u001b[39m# Update parameters\u001b[39;00m\n\u001b[1;32m    173\u001b[0m     \u001b[39mself\u001b[39m\u001b[39m.\u001b[39m_updateU()\n\u001b[0;32m--> 174\u001b[0m     \u001b[39mself\u001b[39;49m\u001b[39m.\u001b[39;49m_updateV()\n\u001b[1;32m    175\u001b[0m     \u001b[39mself\u001b[39m\u001b[39m.\u001b[39m_updateF()\n\u001b[1;32m    176\u001b[0m     \u001b[39m# Update biases\u001b[39;00m\n",
      "File \u001b[0;32m/var/autofs/misc/home/beria/Documents/FINAL PROJECT/Model/ModelFeatures.py:81\u001b[0m, in \u001b[0;36mModelFeatures._updateV\u001b[0;34m(self)\u001b[0m\n\u001b[1;32m     79\u001b[0m     s2 \u001b[39m+\u001b[39m\u001b[39m=\u001b[39m \u001b[39mself\u001b[39m\u001b[39m.\u001b[39mU[j] \u001b[39m*\u001b[39m (r \u001b[39m-\u001b[39m \u001b[39mself\u001b[39m\u001b[39m.\u001b[39muser_biases[j] \u001b[39m-\u001b[39m \u001b[39mself\u001b[39m\u001b[39m.\u001b[39mmovie_biases[i])\n\u001b[1;32m     80\u001b[0m count \u001b[39m=\u001b[39m \u001b[39m0\u001b[39m\n\u001b[0;32m---> 81\u001b[0m \u001b[39mfor\u001b[39;00m f \u001b[39min\u001b[39;00m \u001b[39mself\u001b[39m\u001b[39m.\u001b[39mf_data_genres_by_movie[\u001b[39mself\u001b[39;49m\u001b[39m.\u001b[39;49mf_map_movie_to_index[\u001b[39mstr\u001b[39;49m(\u001b[39mint\u001b[39;49m(\u001b[39mself\u001b[39;49m\u001b[39m.\u001b[39;49mmap_index_to_movie[i]))]][\u001b[39m0\u001b[39m][\u001b[39m1\u001b[39m]\u001b[39m.\u001b[39msplit(\u001b[39m\"\u001b[39m\u001b[39m|\u001b[39m\u001b[39m\"\u001b[39m):\n\u001b[1;32m     82\u001b[0m     s3 \u001b[39m+\u001b[39m\u001b[39m=\u001b[39m \u001b[39mself\u001b[39m\u001b[39m.\u001b[39mF[\u001b[39mself\u001b[39m\u001b[39m.\u001b[39mmap_features[f]]\n\u001b[1;32m     83\u001b[0m     count \u001b[39m+\u001b[39m\u001b[39m=\u001b[39m \u001b[39m1\u001b[39m\n",
      "\u001b[0;31mKeyError\u001b[0m: '3035'"
     ]
    }
   ],
   "source": [
    "import numpy as np\n",
    "#import math\n",
    "import matplotlib.pyplot as plt\n",
    "from tqdm import tqdm\n",
    "import seaborn as sns\n",
    "from sklearn.model_selection import train_test_split\n",
    "import pickle\n",
    "from Model import Model,ModelFeatures\n",
    "\n",
    "# data = np.loadtxt('ml-100k/u.data', delimiter = '\\t', dtype='int')[:,:3]\n",
    "# data = np.loadtxt('ml-100k/ratings.csv', delimiter = ',', skiprows=1)[:,:3]\n",
    "# data = np.loadtxt('ml-25m/ratings.csv',delimiter=',',skiprows=1)[:,:3]\n",
    "data = np.genfromtxt('DATA/ratings.dat', delimiter='::')[:,:3]\n",
    "data_movie = np.genfromtxt('DATA/movies.dat', delimiter='::',dtype=\"str\")\n",
    "\n",
    "data_train, data_test = train_test_split( data, test_size=0.2, random_state=42)\n",
    "\n",
    "# Movie_model = Model.Model(tau=0.5, Lambda=0.05, train=data_train, test=data_test, K=5, data_movies=data_movie)\n",
    "Movie_model = ModelFeatures.ModelFeatures(tau=0.5, Lambda=0.05, train=data_train, test=data_test, K=2, data_movies=data_movie)\n",
    "\n",
    "Movie_model.fit(30)"
   ]
  }
 ],
 "metadata": {
  "kernelspec": {
   "display_name": "Python 3",
   "language": "python",
   "name": "python3"
  },
  "language_info": {
   "codemirror_mode": {
    "name": "ipython",
    "version": 3
   },
   "file_extension": ".py",
   "mimetype": "text/x-python",
   "name": "python",
   "nbconvert_exporter": "python",
   "pygments_lexer": "ipython3",
   "version": "3.11.2"
  }
 },
 "nbformat": 4,
 "nbformat_minor": 2
}
